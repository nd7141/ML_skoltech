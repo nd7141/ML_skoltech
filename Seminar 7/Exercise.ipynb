{
 "cells": [
  {
   "cell_type": "markdown",
   "metadata": {},
   "source": [
    "#### Exercise\n",
    "\n",
    "\n",
    "Goal: Compare different linear classifiers on the multiclass problems. \n",
    "\n",
    "* Create a dataset with n_samples = 10000, n_features = 100, n_informative=10, n_classes=10, n_clusters_per_class=1. \n",
    "* Visualise the first 2 dimensions. \n",
    "* Build SGD model. Using `GridSearchCV` estimate the best parameters for `alpha`, `loss`, and `penalty`. Use [0.1, 0.2, ..., 1] for `alpha`, `loss` = ['hinge', 'huber', 'log'], and `penalty` = ['l2', 'l1', 'elasticnet']. What are the best estimated parameters? \n",
    "* Build `LogisticRegression` model. Esimate parameter `C` using `RandomizedSearchCV` from uniform distribution. Check values for `n_iter` from 100,200,...,1000. Plot how `C` is changing depending on number of iterations. What are the esimated parameters? Compare default behavior (OVR) with One-vs-One multiclass strategy, did it change accuracy? \n",
    "* Build `GaussianNB` and `BernoulliNB` models. Which one showed the best accuracy score? \n",
    "* Build `LDA` and `QDA` models. Which of the models overall show the best accuracy score? Which model showed the lowest runtime? \n",
    "* (Optional) Compare `PCA` and `LDA` as dimensionality reduction. What are the found n_components in `PCA` that explains 90% variance? Use this number to reduce using LDA. How accuracy changed after applying the best model on the reduced dataset? "
   ]
  },
  {
   "cell_type": "code",
   "execution_count": null,
   "metadata": {
    "collapsed": true
   },
   "outputs": [],
   "source": []
  }
 ],
 "metadata": {
  "kernelspec": {
   "display_name": "Python 2",
   "language": "python",
   "name": "python2"
  },
  "language_info": {
   "codemirror_mode": {
    "name": "ipython",
    "version": 2
   },
   "file_extension": ".py",
   "mimetype": "text/x-python",
   "name": "python",
   "nbconvert_exporter": "python",
   "pygments_lexer": "ipython2",
   "version": "2.7.12"
  }
 },
 "nbformat": 4,
 "nbformat_minor": 0
}
