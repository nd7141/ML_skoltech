{
 "cells": [
  {
   "cell_type": "markdown",
   "metadata": {},
   "source": [
    "Exercise: \n",
    "\n",
    "1. Create a dataset using `make_classification` with 5000 obervations, each has 100 features, 20 of which are informative, 40 are redundant, over 10 classes. \n",
    "2. Create a Logisitic Regression model. Use GridSearchCV to select best `alpha`. \n",
    "3. Apply this model on the dataset. What is the accuracy of the model? \n",
    "4. Reduce the dataset using RFECV. What is the found optimal number of features? \n",
    "5. Reduce the dataset using F-test and mutual info criteria. Apply the model to reduced datasets. What is the accuracy of models? \n",
    "6. Create a `SGDClassifier` with L1-norm. Test different values of `alpha` from [0.001, 0.01, 0.1, 0.3]. What is the number of removed features after applying this model to the dataset? \n",
    "7. Create a `RandomForestClassifier` model and apply to the data. What is the number of reduced features? "
   ]
  }
 ],
 "metadata": {
  "kernelspec": {
   "display_name": "Python 2",
   "language": "python",
   "name": "python2"
  },
  "language_info": {
   "codemirror_mode": {
    "name": "ipython",
    "version": 2
   },
   "file_extension": ".py",
   "mimetype": "text/x-python",
   "name": "python",
   "nbconvert_exporter": "python",
   "pygments_lexer": "ipython2",
   "version": "2.7.12"
  }
 },
 "nbformat": 4,
 "nbformat_minor": 0
}
