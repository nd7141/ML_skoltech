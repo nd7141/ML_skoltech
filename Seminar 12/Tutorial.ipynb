{
 "cells": [
  {
   "cell_type": "code",
   "execution_count": 2,
   "metadata": {
    "collapsed": true
   },
   "outputs": [],
   "source": [
    "%matplotlib inline\n",
    "import numpy as np \n",
    "import matplotlib.pyplot as plt"
   ]
  },
  {
   "cell_type": "code",
   "execution_count": 147,
   "metadata": {
    "collapsed": true
   },
   "outputs": [],
   "source": [
    "from sklearn.datasets import make_classification\n",
    "\n",
    "X, y = make_classification(1000, 10, n_redundant=3, n_informative=5, n_classes=5)"
   ]
  },
  {
   "cell_type": "markdown",
   "metadata": {},
   "source": [
    "#### Statistical tests\n",
    "\n",
    "**`SelectKBest`** transforms the data based on relationship between columns and y variable.\n",
    "\n",
    "It takes a function for statistical test `score_func` and the number of features to keep `k`. \n",
    "Score function varies, but the general principle is to get as input `X` and `y`, and return `scores` for each column. \n",
    "For classification task there are 3 default functions: \n",
    "* **chi2** applies Chi-Squared test for each column and class. Importantly, accepts only non-negative features, suited for categorical data such as booleans and frequencies. Not used with continious data. \n",
    "* **f_classif** Computes ANOVA F-value test. Default. \n",
    "* **mutual_info_classif** Estimate mutual information for a discrete target variable.The function relies on nonparametric methods based on entropy estimation from k-nearest neighbors distances.\n",
    "\n",
    "For regression, you have also `f_regression`, `mutual_info_regression`.\n",
    "\n",
    "The methods based on F-test estimate the degree of linear dependency between two random variables. On the other hand, mutual information methods can capture any kind of statistical dependency, but being nonparametric, they require more samples for accurate estimation."
   ]
  },
  {
   "cell_type": "code",
   "execution_count": 144,
   "metadata": {
    "collapsed": false
   },
   "outputs": [
    {
     "name": "stdout",
     "output_type": "stream",
     "text": [
      "Chi-Squared: [(13, 11.132318964498543), (14, 10.283135830918578), (0, 9.5806654381196967), (17, 9.0684314014131129)]\n",
      "Anova: [(0, 76.310572532677071), (13, 70.887794689803201), (18, 59.28976658477373), (14, 58.061243403984086)]\n",
      "Mutual Info: [(16, 0.16046842301424835), (0, 0.1545718791073214), (18, 0.14041175607996426), (10, 0.13197219841729257)]\n"
     ]
    }
   ],
   "source": [
    "from sklearn.feature_selection import SelectKBest\n",
    "from sklearn.feature_selection import chi2, f_classif, mutual_info_classif\n",
    "from sklearn.preprocessing import MinMaxScaler\n",
    "np.set_printoptions(precision=4, suppress=True)\n",
    "\n",
    "\n",
    "scaler = MinMaxScaler()\n",
    "Xtr = scaler.fit_transform(X)\n",
    "\n",
    "# Using chi-squared test\n",
    "selector = SelectKBest(score_func=chi2)\n",
    "fit = selector.fit(Xtr, y)\n",
    "print 'Chi-Squared:', sorted(enumerate(fit.scores_), key=lambda (ix, x): x, reverse=True)[:4]\n",
    "\n",
    "# Using Anova F-test\n",
    "selector = SelectKBest(score_func=f_classif)\n",
    "fit = selector.fit(Xtr, y)\n",
    "print 'Anova:', sorted(enumerate(fit.scores_), key=lambda (ix, x): x, reverse=True)[:4]\n",
    "\n",
    "# Using mutual info criteria\n",
    "selector = SelectKBest(score_func=mutual_info_classif)\n",
    "fit = selector.fit(Xtr, y)\n",
    "print 'Mutual Info:', sorted(enumerate(fit.scores_), key=lambda (ix, x): x, reverse=True)[:4]"
   ]
  },
  {
   "cell_type": "markdown",
   "metadata": {},
   "source": [
    "#### Recursive feature elimination\n",
    "\n",
    "For `RFE` a model trained on a full set of features, then eliminate features with the least absolute values, until necessary number of features is kept. `RFECV` can determine a number of informative features beased on cross-validation. "
   ]
  },
  {
   "cell_type": "code",
   "execution_count": 75,
   "metadata": {
    "collapsed": false
   },
   "outputs": [
    {
     "name": "stdout",
     "output_type": "stream",
     "text": [
      "RFE number of features: 4\n",
      "RFE: [(0, 1), (3, 1), (4, 1), (9, 1), (7, 2), (2, 3), (5, 4), (1, 5), (8, 6), (6, 7)]\n",
      "Optimal number of features 5\n",
      "RFECV: [(0, 1), (3, 1), (4, 1), (7, 1), (9, 1), (2, 2), (5, 3), (1, 4), (8, 5), (6, 6)]\n"
     ]
    }
   ],
   "source": [
    "from sklearn.feature_selection import RFE, RFECV\n",
    "from sklearn.linear_model import LogisticRegression\n",
    "\n",
    "lr = LogisticRegression()\n",
    "rfe = RFE(lr, n_features_to_select=4)\n",
    "\n",
    "fit = rfe.fit(X, y)\n",
    "print 'RFE number of features:', fit.n_features_\n",
    "print 'RFE:', sorted(enumerate(fit.ranking_), key = lambda (ix, x): x)\n",
    "\n",
    "rfecv = RFECV(lr)\n",
    "fit = rfecv.fit(X, y)\n",
    "print 'Optimal number of features', fit.n_features_\n",
    "print 'RFECV:', sorted(enumerate(fit.ranking_), key = lambda (ix, x): x)"
   ]
  },
  {
   "cell_type": "markdown",
   "metadata": {},
   "source": [
    "#### L1-norm based reduction\n",
    "\n",
    "L1-norm can reduce the number of feature by assigning zero weights. Importantly, with SVMs and logistic-regression, the parameter C controls the sparsity: the smaller C the fewer features selected. With Lasso, the higher the alpha parameter, the fewer features selected."
   ]
  },
  {
   "cell_type": "code",
   "execution_count": 130,
   "metadata": {
    "collapsed": false
   },
   "outputs": [
    {
     "name": "stdout",
     "output_type": "stream",
     "text": [
      "(1000L, 9L) (1000L, 8L)\n",
      "(1000L, 9L) (1000L, 5L)\n",
      "[[-0.4941  0.      0.      0.      0.1193  0.      0.      0.0644  0.    ]\n",
      " [ 0.1625 -0.1297  0.0361  0.      0.     -0.0087 -0.0192  0.      0.    ]\n",
      " [ 0.1187  0.1428  0.     -0.0448  0.      0.      0.     -0.1788  0.    ]]\n",
      "\n",
      "[[-0.8032  0.      0.      0.      0.1137  0.      0.0236  0.1805  0.    ]\n",
      " [ 0.1846 -0.2059  0.      0.      0.      0.     -0.0673  0.      0.    ]\n",
      " [ 0.1748  0.2322  0.      0.      0.      0.      0.     -0.227   0.    ]]\n"
     ]
    }
   ],
   "source": [
    "from sklearn.linear_model import SGDClassifier\n",
    "from sklearn.svm import LinearSVC\n",
    "from sklearn.feature_selection import SelectFromModel\n",
    "\n",
    "X, y = make_classification(1000, 9, n_redundant=3, n_informative=5, n_classes=3)\n",
    "\n",
    "svm = LinearSVC(C=0.01, penalty='l1', dual=False).fit(X, y)\n",
    "model = SelectFromModel(svm, prefit=True)\n",
    "Xnew = model.transform(X)\n",
    "print X.shape, Xnew.shape\n",
    "\n",
    "sgd = SGDClassifier(alpha=0.1, penalty='l1').fit(X, y)\n",
    "model = SelectFromModel(sgd, prefit=True)\n",
    "Xtr = model.transform(X)\n",
    "print X.shape, Xtr.shape\n",
    "\n",
    "print svm.coef_\n",
    "print \n",
    "print sgd.coef_"
   ]
  },
  {
   "cell_type": "markdown",
   "metadata": {},
   "source": [
    "#### Tree-based reduction\n",
    "\n",
    "Tree based methods outputs feature importances based on heuristic. It is sometimes called \"gini importance\" or \"mean decrease impurity\" and is defined as the total decrease in node impurity (weighted by the probability of reaching that node (which is approximated by the proportion of samples reaching that node)) averaged over all trees of the ensemble. Reference: Breiman, Friedman, \"Classification and regression trees\", 1984."
   ]
  },
  {
   "cell_type": "code",
   "execution_count": 138,
   "metadata": {
    "collapsed": false
   },
   "outputs": [
    {
     "name": "stdout",
     "output_type": "stream",
     "text": [
      "0.05 [ 0.055   0.0536  0.0484  0.0268  0.0278  0.0724  0.0622  0.0186  0.0506\n",
      "  0.0287  0.0716  0.0186  0.0404  0.0784  0.0439  0.0508  0.0832  0.065\n",
      "  0.0549  0.0491]\n",
      "(1000L, 20L) (1000L, 11L)\n"
     ]
    }
   ],
   "source": [
    "from sklearn.ensemble import RandomForestClassifier\n",
    "\n",
    "X, y = make_classification(1000, 20, n_redundant=10, n_informative=5, n_classes=5)\n",
    "\n",
    "rf = RandomForestClassifier().fit(X, y)\n",
    "print np.mean(rf.feature_importances_), rf.feature_importances_\n",
    "\n",
    "model = SelectFromModel(rf, prefit=True)\n",
    "Xtr = model.transform(X)\n",
    "print X.shape, Xtr.shape\n"
   ]
  },
  {
   "cell_type": "code",
   "execution_count": 139,
   "metadata": {
    "collapsed": false
   },
   "outputs": [
    {
     "name": "stdout",
     "output_type": "stream",
     "text": [
      "Feature ranking:\n",
      "1. feature 16 (0.083215)\n",
      "2. feature 13 (0.078395)\n",
      "3. feature 5 (0.072412)\n",
      "4. feature 10 (0.071594)\n",
      "5. feature 17 (0.065026)\n",
      "6. feature 6 (0.062241)\n",
      "7. feature 0 (0.054957)\n",
      "8. feature 18 (0.054894)\n",
      "9. feature 1 (0.053565)\n",
      "10. feature 15 (0.050794)\n",
      "11. feature 8 (0.050568)\n",
      "12. feature 19 (0.049138)\n",
      "13. feature 2 (0.048430)\n",
      "14. feature 14 (0.043882)\n",
      "15. feature 12 (0.040427)\n",
      "16. feature 9 (0.028708)\n",
      "17. feature 4 (0.027810)\n",
      "18. feature 3 (0.026777)\n",
      "19. feature 11 (0.018585)\n",
      "20. feature 7 (0.018581)\n"
     ]
    },
    {
     "data": {
      "image/png": "[encoded data removed]",
      "text/plain": [
       "<matplotlib.figure.Figure at 0xd811dd8>"
      ]
     },
     "metadata": {},
     "output_type": "display_data"
    }
   ],
   "source": [
    "importances = rf.feature_importances_\n",
    "std = np.std([tree.feature_importances_ for tree in rf.estimators_],\n",
    "             axis=0)\n",
    "indices = np.argsort(importances)[::-1]\n",
    "\n",
    "# Print the feature ranking\n",
    "print(\"Feature ranking:\")\n",
    "\n",
    "for f in range(X.shape[1]):\n",
    "    print(\"%d. feature %d (%f)\" % (f + 1, indices[f], importances[indices[f]]))\n",
    "\n",
    "# Plot the feature importances of the forest\n",
    "plt.figure()\n",
    "plt.title(\"Feature importances\")\n",
    "plt.bar(range(X.shape[1]), importances[indices],\n",
    "       color=\"r\", yerr=std[indices], align=\"center\")\n",
    "plt.xticks(range(X.shape[1]), indices)\n",
    "plt.xlim([-1, X.shape[1]])\n",
    "plt.show()"
   ]
  }
 ],
 "metadata": {
  "kernelspec": {
   "display_name": "Python 2",
   "language": "python",
   "name": "python2"
  },
  "language_info": {
   "codemirror_mode": {
    "name": "ipython",
    "version": 2
   },
   "file_extension": ".py",
   "mimetype": "text/x-python",
   "name": "python",
   "nbconvert_exporter": "python",
   "pygments_lexer": "ipython2",
   "version": "2.7.12"
  }
 },
 "nbformat": 4,
 "nbformat_minor": 0
}
